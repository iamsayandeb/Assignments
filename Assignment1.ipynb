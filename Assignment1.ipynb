{
 "cells": [
  {
   "cell_type": "code",
   "execution_count": 8,
   "id": "a340178e",
   "metadata": {},
   "outputs": [
    {
     "name": "stdout",
     "output_type": "stream",
     "text": [
      "7 hey\n"
     ]
    }
   ],
   "source": [
    "x=2\n",
    "y=5\n",
    "xy='hey'\n",
    "print(x+y,xy)"
   ]
  },
  {
   "cell_type": "code",
   "execution_count": 1,
   "id": "fd5ad6f3",
   "metadata": {},
   "outputs": [
    {
     "name": "stdout",
     "output_type": "stream",
     "text": [
      "my name is sayan. i love python\n"
     ]
    }
   ],
   "source": [
    "print(\"\"\"my name is sayan. i love python\"\"\")"
   ]
  },
  {
   "cell_type": "code",
   "execution_count": 2,
   "id": "be4d5d0b",
   "metadata": {},
   "outputs": [
    {
     "name": "stdout",
     "output_type": "stream",
     "text": [
      "Hello World\n",
      "Hello World !\n"
     ]
    }
   ],
   "source": [
    "String1='World'\n",
    "print('Hello',String1)\n",
    "String2='!'\n",
    "print('Hello',String1,String2)"
   ]
  },
  {
   "cell_type": "code",
   "execution_count": 3,
   "id": "faabb568",
   "metadata": {},
   "outputs": [
    {
     "name": "stdout",
     "output_type": "stream",
     "text": [
      "helloWorld!\n"
     ]
    }
   ],
   "source": [
    "print('hello'+String1+String2)"
   ]
  },
  {
   "cell_type": "code",
   "execution_count": 5,
   "id": "50710f63",
   "metadata": {},
   "outputs": [
    {
     "name": "stdout",
     "output_type": "stream",
     "text": [
      "jan\n",
      "feb\n",
      "march\n",
      "april\n",
      "may\n"
     ]
    }
   ],
   "source": [
    "print(\"jan\\nfeb\\nmarch\\napril\\nmay\")"
   ]
  },
  {
   "cell_type": "code",
   "execution_count": 6,
   "id": "eba85d8f",
   "metadata": {},
   "outputs": [
    {
     "name": "stdout",
     "output_type": "stream",
     "text": [
      "i want \\n to be printed\n"
     ]
    }
   ],
   "source": [
    "print(\"i want \\\\n to be printed\")"
   ]
  },
  {
   "cell_type": "code",
   "execution_count": 7,
   "id": "9e9e3450",
   "metadata": {},
   "outputs": [
    {
     "name": "stdout",
     "output_type": "stream",
     "text": [
      "<class 'int'>\n",
      "<class 'str'>\n",
      "<class 'bool'>\n",
      "<class 'float'>\n"
     ]
    }
   ],
   "source": [
    "x=10\n",
    "print(type(x))\n",
    "s='abc'\n",
    "print(type(s))\n",
    "value=True\n",
    "print(type(value))\n",
    "perc=90.0\n",
    "print(type(perc))"
   ]
  },
  {
   "cell_type": "code",
   "execution_count": null,
   "id": "ad4dfe19",
   "metadata": {},
   "outputs": [],
   "source": []
  }
 ],
 "metadata": {
  "kernelspec": {
   "display_name": "Python 3",
   "language": "python",
   "name": "python3"
  },
  "language_info": {
   "codemirror_mode": {
    "name": "ipython",
    "version": 3
   },
   "file_extension": ".py",
   "mimetype": "text/x-python",
   "name": "python",
   "nbconvert_exporter": "python",
   "pygments_lexer": "ipython3",
   "version": "3.8.8"
  }
 },
 "nbformat": 4,
 "nbformat_minor": 5
}
